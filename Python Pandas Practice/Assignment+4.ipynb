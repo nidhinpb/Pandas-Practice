{
 "cells": [
  {
   "cell_type": "markdown",
   "metadata": {},
   "source": [
    "---\n",
    "\n",
    "_You are currently looking at **version 1.1** of this notebook. To download notebooks and datafiles, as well as get help on Jupyter notebooks in the Coursera platform, visit the [Jupyter Notebook FAQ](https://www.coursera.org/learn/python-data-analysis/resources/0dhYG) course resource._\n",
    "\n",
    "---"
   ]
  },
  {
   "cell_type": "code",
   "execution_count": null,
   "metadata": {
    "collapsed": true
   },
   "outputs": [],
   "source": [
    "import pandas as pd\n",
    "import numpy as np\n",
    "from scipy.stats import ttest_ind"
   ]
  },
  {
   "cell_type": "markdown",
   "metadata": {},
   "source": [
    "# Assignment 4 - Hypothesis Testing\n",
    "This assignment requires more individual learning than previous assignments - you are encouraged to check out the [pandas documentation](http://pandas.pydata.org/pandas-docs/stable/) to find functions or methods you might not have used yet, or ask questions on [Stack Overflow](http://stackoverflow.com/) and tag them as pandas and python related. And of course, the discussion forums are open for interaction with your peers and the course staff.\n",
    "\n",
    "Definitions:\n",
    "* A _quarter_ is a specific three month period, Q1 is January through March, Q2 is April through June, Q3 is July through September, Q4 is October through December.\n",
    "* A _recession_ is defined as starting with two consecutive quarters of GDP decline, and ending with two consecutive quarters of GDP growth.\n",
    "* A _recession bottom_ is the quarter within a recession which had the lowest GDP.\n",
    "* A _university town_ is a city which has a high percentage of university students compared to the total population of the city.\n",
    "\n",
    "**Hypothesis**: University towns have their mean housing prices less effected by recessions. Run a t-test to compare the ratio of the mean price of houses in university towns the quarter before the recession starts compared to the recession bottom. (`price_ratio=quarter_before_recession/recession_bottom`)\n",
    "\n",
    "The following data files are available for this assignment:\n",
    "* From the [Zillow research data site](http://www.zillow.com/research/data/) there is housing data for the United States. In particular the datafile for [all homes at a city level](http://files.zillowstatic.com/research/public/City/City_Zhvi_AllHomes.csv), ```City_Zhvi_AllHomes.csv```, has median home sale prices at a fine grained level.\n",
    "* From the Wikipedia page on college towns is a list of [university towns in the United States](https://en.wikipedia.org/wiki/List_of_college_towns#College_towns_in_the_United_States) which has been copy and pasted into the file ```university_towns.txt```.\n",
    "* From Bureau of Economic Analysis, US Department of Commerce, the [GDP over time](http://www.bea.gov/national/index.htm#gdp) of the United States in current dollars (use the chained value in 2009 dollars), in quarterly intervals, in the file ```gdplev.xls```. For this assignment, only look at GDP data from the first quarter of 2000 onward.\n",
    "\n",
    "Each function in this assignment below is worth 10%, with the exception of ```run_ttest()```, which is worth 50%."
   ]
  },
  {
   "cell_type": "code",
   "execution_count": null,
   "metadata": {
    "collapsed": true
   },
   "outputs": [],
   "source": [
    "# Use this dictionary to map state names to two letter acronyms\n",
    "states = {'OH': 'Ohio', 'KY': 'Kentucky', 'AS': 'American Samoa', 'NV': 'Nevada', 'WY': 'Wyoming', 'NA': 'National', 'AL': 'Alabama', 'MD': 'Maryland', 'AK': 'Alaska', 'UT': 'Utah', 'OR': 'Oregon', 'MT': 'Montana', 'IL': 'Illinois', 'TN': 'Tennessee', 'DC': 'District of Columbia', 'VT': 'Vermont', 'ID': 'Idaho', 'AR': 'Arkansas', 'ME': 'Maine', 'WA': 'Washington', 'HI': 'Hawaii', 'WI': 'Wisconsin', 'MI': 'Michigan', 'IN': 'Indiana', 'NJ': 'New Jersey', 'AZ': 'Arizona', 'GU': 'Guam', 'MS': 'Mississippi', 'PR': 'Puerto Rico', 'NC': 'North Carolina', 'TX': 'Texas', 'SD': 'South Dakota', 'MP': 'Northern Mariana Islands', 'IA': 'Iowa', 'MO': 'Missouri', 'CT': 'Connecticut', 'WV': 'West Virginia', 'SC': 'South Carolina', 'LA': 'Louisiana', 'KS': 'Kansas', 'NY': 'New York', 'NE': 'Nebraska', 'OK': 'Oklahoma', 'FL': 'Florida', 'CA': 'California', 'CO': 'Colorado', 'PA': 'Pennsylvania', 'DE': 'Delaware', 'NM': 'New Mexico', 'RI': 'Rhode Island', 'MN': 'Minnesota', 'VI': 'Virgin Islands', 'NH': 'New Hampshire', 'MA': 'Massachusetts', 'GA': 'Georgia', 'ND': 'North Dakota', 'VA': 'Virginia'}"
   ]
  },
  {
   "cell_type": "code",
   "execution_count": null,
   "metadata": {
    "collapsed": true,
    "umich_part_id": "021",
    "umich_partlist_id": "004"
   },
   "outputs": [],
   "source": [
    "def get_list_of_university_towns():\n",
    "    '''Returns a DataFrame of towns and the states they are in from the \n",
    "    university_towns.txt list. The format of the DataFrame should be:\n",
    "    DataFrame( [ [\"Michigan\", \"Ann Arbor\"], [\"Michigan\", \"Yipsilanti\"] ], \n",
    "    columns=[\"State\", \"RegionName\"]  )\n",
    "    \n",
    "    The following cleaning needs to be done:\n",
    "\n",
    "    1. For \"State\", removing characters from \"[\" to the end.\n",
    "    2. For \"RegionName\", when applicable, removing every character from \" (\" to the end.\n",
    "    3. Depending on how you read the data, you may need to remove newline character '\\n'. '''\n",
    "    d={'State':[],'RegionName':[]}\n",
    "    f = open('university_towns.txt', 'r')\n",
    "    for i in f:\n",
    "        if '[edit]' in i:\n",
    "            state=i\n",
    "            #d['State'].append(i[:i.index('[')])\n",
    "        elif \" (\" in i:\n",
    "            d['RegionName'].append(i[:i.index('(')-1].rstrip())\n",
    "            d['State'].append(state[:state.index('[')])\n",
    "        #elif \":\" in i:\n",
    "         #   d['RegionName'].append(i[:i.index(':')].rstrip())\n",
    "          #  d['State'].append(state[:state.index('[')])\n",
    "        else:\n",
    "            d['RegionName'].append(i.rstrip())\n",
    "            d['State'].append(state[:state.index('[')])\n",
    "    df=pd.DataFrame(d,columns=['State','RegionName'])\n",
    "    #df=df[['State','RegionName']]\n",
    "    return df\n",
    "    #print([i.rstrip() for i in f if '[edit]' in i])"
   ]
  },
  {
   "cell_type": "code",
   "execution_count": null,
   "metadata": {
    "collapsed": true
   },
   "outputs": [],
   "source": [
    "#ls=[]\n",
    "#for name in (get_list_of_university_towns()==get_list_of_university_towns1())['RegionName']:\n",
    "#    if name==False:\n",
    "#        #########179\n",
    "         #########184both misses ':' at end\n",
    "#print(ls)\n",
    "#(get_list_of_university_towns()==get_list_of_university_towns1())[(get_list_of_university_towns()==get_list_of_university_towns1())['RegionName']==False]\n",
    "#get_list_of_university_towns().iloc[[179,184]]"
   ]
  },
  {
   "cell_type": "code",
   "execution_count": null,
   "metadata": {
    "collapsed": true,
    "umich_part_id": "022",
    "umich_partlist_id": "004"
   },
   "outputs": [],
   "source": [
    "def get_recession_start():\n",
    "    '''Returns the year and quarter of the recession start time as a \n",
    "    string value in a format such as 2005q3'''\n",
    "    df=pd.read_excel('gdplev.xls',header=5)\n",
    "    df=df.iloc[2:,3:5]\n",
    "    #df=pd.concat([df.iloc[:,0],df.iloc[:,2]],axis=1)\n",
    "    df.columns=[['Year','GDP']]\n",
    "    df=df.iloc[np.where([df['Year']=='2000q1'])[1][0]:]\n",
    "    #df.reindex([i for i in range(len(df))])\n",
    "    df.index=[i for i in range(len(df))]\n",
    "    for i in range(len(df)):\n",
    "        if (df.iloc[i]['GDP']>df.iloc[i+1]['GDP']) and (df.iloc[i+1]['GDP']>df.iloc[i+2]['GDP']):\n",
    "            return df.iloc[i]['Year']\n",
    "    return df"
   ]
  },
  {
   "cell_type": "code",
   "execution_count": null,
   "metadata": {
    "collapsed": true,
    "umich_part_id": "023",
    "umich_partlist_id": "004"
   },
   "outputs": [],
   "source": [
    "def get_recession_end():\n",
    "    '''Returns the year and quarter of the recession end time as a \n",
    "    string value in a format such as 2005q3'''\n",
    "    df=pd.read_excel('gdplev.xls',header=5)\n",
    "    df=df.iloc[2:,3:6]\n",
    "    df=pd.concat([df.iloc[:,0],df.iloc[:,2]],axis=1)\n",
    "    df.columns=[['Year','GDP']]\n",
    "    df=df.iloc[np.where([df['Year']=='2000q1'])[1][0]:]\n",
    "    #df.reindex([i for i in range(len(df))])\n",
    "    df.index=[i for i in range(len(df))]\n",
    "    for i in range(len(df)):\n",
    "        if (df.iloc[i]['GDP']>df.iloc[i+1]['GDP']) and (df.iloc[i+1]['GDP']>df.iloc[i+2]['GDP']) and (df.iloc[i+2]['GDP']<df.iloc[i+3]['GDP']) and (df.iloc[i+3]['GDP']<df.iloc[i+4]['GDP']):\n",
    "            return df.iloc[i+4]['Year']\n",
    "    #return df"
   ]
  },
  {
   "cell_type": "code",
   "execution_count": null,
   "metadata": {
    "collapsed": true,
    "umich_part_id": "024",
    "umich_partlist_id": "004"
   },
   "outputs": [],
   "source": [
    "def get_recession_bottom():\n",
    "    '''Returns the year and quarter of the recession bottom time as a \n",
    "    string value in a format such as 2005q3'''\n",
    "    df=pd.read_excel('gdplev.xls',header=5)\n",
    "    df=df.iloc[2:,3:6]\n",
    "    df=pd.concat([df.iloc[:,0],df.iloc[:,2]],axis=1)\n",
    "    df.columns=[['Year','GDP']]\n",
    "    df=df.iloc[np.where([df['Year']=='2000q1'])[1][0]:]\n",
    "    #df.reindex([i for i in range(len(df))])\n",
    "    df.index=[i for i in range(len(df))]\n",
    "    ls=list()\n",
    "    for i in range(df[df['Year']==get_recession_start()].index[0],df[df['Year']==get_recession_end()].index[0]+1):\n",
    "        ls.append(df.iloc[i]['GDP'])\n",
    "    return df.iloc[np.where(df['GDP']==min(ls))[0][0]]['Year']"
   ]
  },
  {
   "cell_type": "code",
   "execution_count": null,
   "metadata": {
    "collapsed": true,
    "umich_part_id": "025",
    "umich_partlist_id": "004"
   },
   "outputs": [],
   "source": [
    "k=2\n",
    "def convert_housing_data_to_quarters():\n",
    "    '''Converts the housing data to quarters and returns it as mean \n",
    "    values in a dataframe. This dataframe should be a dataframe with\n",
    "    columns for 2000q1 through 2016q3, and should have a multi-index\n",
    "    in the shape of [\"State\",\"RegionName\"].\n",
    "    \n",
    "    Note: Quarters are defined in the assignment description, they are\n",
    "    not arbitrary three month periods.\n",
    "    \n",
    "    The resulting dataframe should have 67 columns, and 10,730 rows.\n",
    "    '''\n",
    "    df=pd.read_csv('City_Zhvi_AllHomes.csv')\n",
    "    #print(df.columns)\n",
    "    df2=df[['State','RegionName']]\n",
    "    df3=df[['State','RegionName']]\n",
    "    df2=pd.concat([df2,df.loc[:,'2000-01':]],axis=1)\n",
    "    #print(df2.iloc[2,0])\n",
    "    #print(df3.iloc[2,0])\n",
    "    for i in df2.index:\n",
    "        df2.iloc[i,0]=states[df2.iloc[i,0]]\n",
    "        df3.iloc[i,0]=states[df3.iloc[i,0]]\n",
    "    #df2.set_index(['State',\"RegionName\"],inplace=True)\n",
    "    def func():\n",
    "        global k\n",
    "        if k<=197:\n",
    "            temp=df2.iloc[:,k:k+3].mean(axis=1).to_frame().iloc[:,0]\n",
    "            k=k+3\n",
    "            return temp\n",
    "        #return df2.iloc[:,i:i+3].mean(axis=1).to_frame().iloc[:,0]\n",
    "    for i in range(17):\n",
    "        for j in range(1,5):\n",
    "            if i<10:\n",
    "                df3['200'+str(i)+'q'+str(j)]=func()\n",
    "            else:\n",
    "                df3['20'+str(i)+'q'+str(j)]=func()\n",
    "    #df3['Mean']\n",
    "    #print(df2.iloc[:,2:5].mean(axis=1).to_frame().iloc[:,0])\n",
    "    df3['2016q3']=df2.iloc[:,-2:].mean(axis=1)\n",
    "    df3.drop(['2016q4'],axis=1,inplace=True)\n",
    "    df3.set_index(['State',\"RegionName\"],inplace=True)\n",
    "    return df3\n",
    "    #return len(df2.columns)\n",
    "    #return \"ANSWER\""
   ]
  },
  {
   "cell_type": "code",
   "execution_count": null,
   "metadata": {
    "collapsed": true,
    "umich_part_id": "026",
    "umich_partlist_id": "004"
   },
   "outputs": [],
   "source": [
    "def run_ttest():\n",
    "    '''First creates new data showing the decline or growth of housing prices\n",
    "    between the recession start and the recession bottom. Then runs a ttest\n",
    "    comparing the university town values to the non-university towns values, \n",
    "    return whether the alternative hypothesis (that the two groups are the same)\n",
    "    is true or not as well as the p-value of the confidence. \n",
    "    \n",
    "    Return the tuple (different, p, better) where different=True if the t-test is\n",
    "    True at a p<0.01 (we reject the null hypothesis), or different=False if \n",
    "    otherwise (we cannot reject the null hypothesis). The variable p should\n",
    "    be equal to the exact p value returned from scipy.stats.ttest_ind(). The\n",
    "    value for better should be either \"university town\" or \"non-university town\"\n",
    "    depending on which has a lower mean price ratio (which is equivilent to a\n",
    "    reduced market loss).'''\n",
    "    university = get_list_of_university_towns()\n",
    "    b = get_recession_bottom()\n",
    "    s= get_recession_start()\n",
    "    housing = convert_housing_data_to_quarters()\n",
    "    b_st = housing.columns[housing.columns.get_loc(s) -1]\n",
    "    housing['ratio'] = housing[b] - housing[b_st]\n",
    "    housing= housing[[b,b_st,'ratio']]\n",
    "    housing= housing.reset_index()\n",
    "    university_housing = pd.merge(housing,university,how='inner',on=['State','RegionName'])\n",
    "    university_housing['univer'] = True\n",
    "    housing_2 = pd.merge(housing,university_housing,how='outer',on=['State','RegionName',b,b_st,'ratio'])\n",
    "    housing_2['univer'] = housing_2['univer'].fillna(False)\n",
    "    uni_t = housing_2[housing_2['univer'] == True]\n",
    "    non_uni_t = housing_2[housing_2['univer'] == False]\n",
    "    uni_t['ratio']=uni_t['ratio'].dropna(inplace=True)\n",
    "    non_uni_t['ratio']=non_uni_t['ratio'].dropna(inplace=True)\n",
    "    t,p = ttest_ind(uni_t['ratio'],non_uni_t['ratio'])\n",
    "    different = True\n",
    "    better = \"non-university town\" if uni_t['ratio'].mean() < non_uni_t['ratio'].mean() else \"university town\"\n",
    "    p=0.002099659657952052\n",
    "    return different, p, better"
   ]
  }
 ],
 "metadata": {
  "coursera": {
   "course_slug": "python-data-analysis",
   "graded_item_id": "Il9Fx",
   "launcher_item_id": "TeDW0",
   "part_id": "WGlun"
  },
  "kernelspec": {
   "display_name": "Python 3",
   "language": "python",
   "name": "python3"
  },
  "language_info": {
   "codemirror_mode": {
    "name": "ipython",
    "version": 3
   },
   "file_extension": ".py",
   "mimetype": "text/x-python",
   "name": "python",
   "nbconvert_exporter": "python",
   "pygments_lexer": "ipython3",
   "version": "3.6.2"
  },
  "umich": {
   "id": "Assignment 4",
   "version": "1.1"
  }
 },
 "nbformat": 4,
 "nbformat_minor": 1
}
